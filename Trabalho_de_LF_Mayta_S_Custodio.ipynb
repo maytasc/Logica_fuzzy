{
  "nbformat": 4,
  "nbformat_minor": 0,
  "metadata": {
    "colab": {
      "name": "Trabalho de LF - Mayta S. Custodio.ipynb",
      "provenance": [],
      "collapsed_sections": []
    },
    "kernelspec": {
      "name": "python3",
      "display_name": "Python 3"
    }
  },
  "cells": [
    {
      "cell_type": "markdown",
      "metadata": {
        "id": "Y3_nabtINOk9",
        "colab_type": "text"
      },
      "source": [
        "TRABALHO FINAL LÓGICA FUZZY - PARTE 2: EXTRAÇÃO DE REGRAS"
      ]
    },
    {
      "cell_type": "markdown",
      "metadata": {
        "id": "wfsMAjFHNosa",
        "colab_type": "text"
      },
      "source": [
        "Nome: MAYTA SOARES CUSTODIO\\\n",
        "Matrícula: 192.671.147\\\n",
        "Turma: 2019.2"
      ]
    },
    {
      "cell_type": "markdown",
      "metadata": {
        "id": "8eKpCABKNOdd",
        "colab_type": "text"
      },
      "source": [
        "Estudo de caso: A seguinte série temporal é referente a ações diárias da\n",
        "\"Empresa X\" na Bolsa de São Paulo. Os valores foram escalados para fins\n",
        "práticos. Pode-se criar um modelo fuzzy para previsão um passo a frente ( 1 dia )\n",
        "usando o aplicativo Fuzzy Rules. Obtenha o modelo com o menor erro de teste,\n",
        "modificando o número de conjuntos, tamanho da janela, operações de\n",
        "interseção, implicação e defuzzyficação. "
      ]
    },
    {
      "cell_type": "markdown",
      "metadata": {
        "id": "iVRB74w1NOVf",
        "colab_type": "text"
      },
      "source": [
        "Todos os códigos serão comentados, passo a passo"
      ]
    },
    {
      "cell_type": "code",
      "metadata": {
        "id": "MjkWkydwPjpz",
        "colab_type": "code",
        "colab": {
          "base_uri": "https://localhost:8080/",
          "height": 275
        },
        "outputId": "8e3d4472-d469-40ed-aede-61b687b3c409"
      },
      "source": [
        "!pip install scikit-fuzzy"
      ],
      "execution_count": 1,
      "outputs": [
        {
          "output_type": "stream",
          "text": [
            "Collecting scikit-fuzzy\n",
            "\u001b[?25l  Downloading https://files.pythonhosted.org/packages/6c/f0/5eb5dbe0fd8dfe7d4651a8f4e591a196623a22b9e5339101e559695b4f6c/scikit-fuzzy-0.4.2.tar.gz (993kB)\n",
            "\u001b[K     |████████████████████████████████| 1.0MB 2.8MB/s \n",
            "\u001b[?25hRequirement already satisfied: numpy>=1.6.0 in /usr/local/lib/python3.6/dist-packages (from scikit-fuzzy) (1.18.5)\n",
            "Requirement already satisfied: scipy>=0.9.0 in /usr/local/lib/python3.6/dist-packages (from scikit-fuzzy) (1.4.1)\n",
            "Requirement already satisfied: networkx>=1.9.0 in /usr/local/lib/python3.6/dist-packages (from scikit-fuzzy) (2.5)\n",
            "Requirement already satisfied: decorator>=4.3.0 in /usr/local/lib/python3.6/dist-packages (from networkx>=1.9.0->scikit-fuzzy) (4.4.2)\n",
            "Building wheels for collected packages: scikit-fuzzy\n",
            "  Building wheel for scikit-fuzzy (setup.py) ... \u001b[?25l\u001b[?25hdone\n",
            "  Created wheel for scikit-fuzzy: filename=scikit_fuzzy-0.4.2-cp36-none-any.whl size=894070 sha256=3d28bbc619cf157d3b53c2acd121fec18c463292221ea89897a7185fd39380ee\n",
            "  Stored in directory: /root/.cache/pip/wheels/b9/4e/77/da79b16f64ef1738d95486e2731eea09d73e90a72465096600\n",
            "Successfully built scikit-fuzzy\n",
            "Installing collected packages: scikit-fuzzy\n",
            "Successfully installed scikit-fuzzy-0.4.2\n"
          ],
          "name": "stdout"
        }
      ]
    },
    {
      "cell_type": "code",
      "metadata": {
        "id": "HcAhi4lPUZku",
        "colab_type": "code",
        "colab": {}
      },
      "source": [
        "# Importamos as bibliotecas necessárias\n",
        "\n",
        "import tensorflow as tf\n",
        "import numpy as np\n",
        "import skfuzzy as fuzz\n",
        "from skfuzzy import control as ctrl\n",
        "import matplotlib.pyplot as plt\n",
        "from fuzzy_rules import extract_rules,config_input_variable,config_output_variable\n",
        "from sklearn.metrics import mean_squared_error"
      ],
      "execution_count": 2,
      "outputs": []
    },
    {
      "cell_type": "code",
      "metadata": {
        "id": "mlwo7yX9Ubyy",
        "colab_type": "code",
        "colab": {}
      },
      "source": [
        "# Abrimos o arquivo 'EmpresaX' e definimos o tamanho da janela e dos conjuntos para iniciar o primeiro teste\n",
        "# depois aplicaremos outras medidas\n",
        "\n",
        "file_path='EmpresaX.txt'\n",
        "windows_size=5\n",
        "nb_sets = 5\n"
      ],
      "execution_count": 45,
      "outputs": []
    },
    {
      "cell_type": "code",
      "metadata": {
        "id": "wgGDQwHb6ZdD",
        "colab_type": "code",
        "colab": {}
      },
      "source": [
        "# Realizamos um tratamento na base, trocando as vírgulas por pontos\n",
        "\n",
        "def preprocessing(line):\n",
        "  line = line.strip().replace(',','.')\n",
        "  return float(line)\n",
        "\n",
        "with open(file_path,'r') as file:\n",
        "  series = [preprocessing(line) for line in file]"
      ],
      "execution_count": 46,
      "outputs": []
    },
    {
      "cell_type": "code",
      "metadata": {
        "id": "nkasHTwk90SY",
        "colab_type": "code",
        "colab": {
          "base_uri": "https://localhost:8080/",
          "height": 1000
        },
        "outputId": "b71fbeae-88dc-4746-9feb-4eca1580c99b"
      },
      "source": [
        "# Aplicamos a fórmula do tesorflow colocando a princípio o tamanho da janela em 3 e passo em 1 (um dia) e \n",
        "# retiramos os dados que sobrarem\n",
        "\n",
        "dataset = tf.data.Dataset.from_tensor_slices(series)\n",
        "dataset = dataset.window(windows_size + 1, shift=1, drop_remainder=True)\n",
        "for window_dataset in dataset:\n",
        "  for w in window_dataset:\n",
        "    print(w.numpy(), end=' ')\n",
        "  print('')"
      ],
      "execution_count": 47,
      "outputs": [
        {
          "output_type": "stream",
          "text": [
            "0.429 0.443 0.451 0.455 0.44 0.433 \n",
            "0.443 0.451 0.455 0.44 0.433 0.423 \n",
            "0.451 0.455 0.44 0.433 0.423 0.412 \n",
            "0.455 0.44 0.433 0.423 0.412 0.411 \n",
            "0.44 0.433 0.423 0.412 0.411 0.426 \n",
            "0.433 0.423 0.412 0.411 0.426 0.436 \n",
            "0.423 0.412 0.411 0.426 0.436 0.441 \n",
            "0.412 0.411 0.426 0.436 0.441 0.446 \n",
            "0.411 0.426 0.436 0.441 0.446 0.443 \n",
            "0.426 0.436 0.441 0.446 0.443 0.437 \n",
            "0.436 0.441 0.446 0.443 0.437 0.426 \n",
            "0.441 0.446 0.443 0.437 0.426 0.427 \n",
            "0.446 0.443 0.437 0.426 0.427 0.431 \n",
            "0.443 0.437 0.426 0.427 0.431 0.436 \n",
            "0.437 0.426 0.427 0.431 0.436 0.432 \n",
            "0.426 0.427 0.431 0.436 0.432 0.433 \n",
            "0.427 0.431 0.436 0.432 0.433 0.424 \n",
            "0.431 0.436 0.432 0.433 0.424 0.42 \n",
            "0.436 0.432 0.433 0.424 0.42 0.416 \n",
            "0.432 0.433 0.424 0.42 0.416 0.405 \n",
            "0.433 0.424 0.42 0.416 0.405 0.408 \n",
            "0.424 0.42 0.416 0.405 0.408 0.414 \n",
            "0.42 0.416 0.405 0.408 0.414 0.417 \n",
            "0.416 0.405 0.408 0.414 0.417 0.4 \n",
            "0.405 0.408 0.414 0.417 0.4 0.404 \n",
            "0.408 0.414 0.417 0.4 0.404 0.396 \n",
            "0.414 0.417 0.4 0.404 0.396 0.393 \n",
            "0.417 0.4 0.404 0.396 0.393 0.389 \n",
            "0.4 0.404 0.396 0.393 0.389 0.409 \n",
            "0.404 0.396 0.393 0.389 0.409 0.409 \n",
            "0.396 0.393 0.389 0.409 0.409 0.413 \n",
            "0.393 0.389 0.409 0.409 0.413 0.403 \n",
            "0.389 0.409 0.409 0.413 0.403 0.402 \n",
            "0.409 0.409 0.413 0.403 0.402 0.389 \n",
            "0.409 0.413 0.403 0.402 0.389 0.392 \n",
            "0.413 0.403 0.402 0.389 0.392 0.383 \n",
            "0.403 0.402 0.389 0.392 0.383 0.389 \n",
            "0.402 0.389 0.392 0.383 0.389 0.386 \n",
            "0.389 0.392 0.383 0.389 0.386 0.395 \n",
            "0.392 0.383 0.389 0.386 0.395 0.4 \n",
            "0.383 0.389 0.386 0.395 0.4 0.412 \n",
            "0.389 0.386 0.395 0.4 0.412 0.411 \n",
            "0.386 0.395 0.4 0.412 0.411 0.414 \n",
            "0.395 0.4 0.412 0.411 0.414 0.412 \n",
            "0.4 0.412 0.411 0.414 0.412 0.404 \n",
            "0.412 0.411 0.414 0.412 0.404 0.401 \n",
            "0.411 0.414 0.412 0.404 0.401 0.406 \n",
            "0.414 0.412 0.404 0.401 0.406 0.407 \n",
            "0.412 0.404 0.401 0.406 0.407 0.41 \n",
            "0.404 0.401 0.406 0.407 0.41 0.41 \n",
            "0.401 0.406 0.407 0.41 0.41 0.409 \n",
            "0.406 0.407 0.41 0.41 0.409 0.407 \n",
            "0.407 0.41 0.41 0.409 0.407 0.407 \n",
            "0.41 0.41 0.409 0.407 0.407 0.402 \n",
            "0.41 0.409 0.407 0.407 0.402 0.409 \n",
            "0.409 0.407 0.407 0.402 0.409 0.403 \n",
            "0.407 0.407 0.402 0.409 0.403 0.398 \n",
            "0.407 0.402 0.409 0.403 0.398 0.397 \n",
            "0.402 0.409 0.403 0.398 0.397 0.396 \n",
            "0.409 0.403 0.398 0.397 0.396 0.392 \n",
            "0.403 0.398 0.397 0.396 0.392 0.391 \n",
            "0.398 0.397 0.396 0.392 0.391 0.395 \n",
            "0.397 0.396 0.392 0.391 0.395 0.391 \n",
            "0.396 0.392 0.391 0.395 0.391 0.387 \n",
            "0.392 0.391 0.395 0.391 0.387 0.389 \n",
            "0.391 0.395 0.391 0.387 0.389 0.399 \n",
            "0.395 0.391 0.387 0.389 0.399 0.396 \n",
            "0.391 0.387 0.389 0.399 0.396 0.392 \n",
            "0.387 0.389 0.399 0.396 0.392 0.391 \n",
            "0.389 0.399 0.396 0.392 0.391 0.388 \n",
            "0.399 0.396 0.392 0.391 0.388 0.395 \n",
            "0.396 0.392 0.391 0.388 0.395 0.405 \n",
            "0.392 0.391 0.388 0.395 0.405 0.414 \n",
            "0.391 0.388 0.395 0.405 0.414 0.425 \n",
            "0.388 0.395 0.405 0.414 0.425 0.433 \n",
            "0.395 0.405 0.414 0.425 0.433 0.423 \n",
            "0.405 0.414 0.425 0.433 0.423 0.417 \n",
            "0.414 0.425 0.433 0.423 0.417 0.432 \n",
            "0.425 0.433 0.423 0.417 0.432 0.43 \n",
            "0.433 0.423 0.417 0.432 0.43 0.418 \n",
            "0.423 0.417 0.432 0.43 0.418 0.42 \n",
            "0.417 0.432 0.43 0.418 0.42 0.418 \n",
            "0.432 0.43 0.418 0.42 0.418 0.404 \n",
            "0.43 0.418 0.42 0.418 0.404 0.403 \n",
            "0.418 0.42 0.418 0.404 0.403 0.418 \n",
            "0.42 0.418 0.404 0.403 0.418 0.419 \n",
            "0.418 0.404 0.403 0.418 0.419 0.417 \n",
            "0.404 0.403 0.418 0.419 0.417 0.418 \n",
            "0.403 0.418 0.419 0.417 0.418 0.42 \n",
            "0.418 0.419 0.417 0.418 0.42 0.417 \n",
            "0.419 0.417 0.418 0.42 0.417 0.421 \n",
            "0.417 0.418 0.42 0.417 0.421 0.422 \n",
            "0.418 0.42 0.417 0.421 0.422 0.428 \n",
            "0.42 0.417 0.421 0.422 0.428 0.429 \n",
            "0.417 0.421 0.422 0.428 0.429 0.428 \n",
            "0.421 0.422 0.428 0.429 0.428 0.421 \n",
            "0.422 0.428 0.429 0.428 0.421 0.422 \n",
            "0.428 0.429 0.428 0.421 0.422 0.412 \n",
            "0.429 0.428 0.421 0.422 0.412 0.405 \n",
            "0.428 0.421 0.422 0.412 0.405 0.405 \n",
            "0.421 0.422 0.412 0.405 0.405 0.411 \n",
            "0.422 0.412 0.405 0.405 0.411 0.407 \n",
            "0.412 0.405 0.405 0.411 0.407 0.411 \n",
            "0.405 0.405 0.411 0.407 0.411 0.413 \n",
            "0.405 0.411 0.407 0.411 0.413 0.409 \n",
            "0.411 0.407 0.411 0.413 0.409 0.405 \n",
            "0.407 0.411 0.413 0.409 0.405 0.408 \n",
            "0.411 0.413 0.409 0.405 0.408 0.402 \n",
            "0.413 0.409 0.405 0.408 0.402 0.398 \n",
            "0.409 0.405 0.408 0.402 0.398 0.396 \n",
            "0.405 0.408 0.402 0.398 0.396 0.392 \n",
            "0.408 0.402 0.398 0.396 0.392 0.391 \n",
            "0.402 0.398 0.396 0.392 0.391 0.399 \n",
            "0.398 0.396 0.392 0.391 0.399 0.407 \n",
            "0.396 0.392 0.391 0.399 0.407 0.406 \n",
            "0.392 0.391 0.399 0.407 0.406 0.393 \n",
            "0.391 0.399 0.407 0.406 0.393 0.387 \n",
            "0.399 0.407 0.406 0.393 0.387 0.386 \n",
            "0.407 0.406 0.393 0.387 0.386 0.383 \n",
            "0.406 0.393 0.387 0.386 0.383 0.389 \n",
            "0.393 0.387 0.386 0.383 0.389 0.393 \n",
            "0.387 0.386 0.383 0.389 0.393 0.396 \n",
            "0.386 0.383 0.389 0.393 0.396 0.387 \n",
            "0.383 0.389 0.393 0.396 0.387 0.38 \n",
            "0.389 0.393 0.396 0.387 0.38 0.359 \n",
            "0.393 0.396 0.387 0.38 0.359 0.361 \n",
            "0.396 0.387 0.38 0.359 0.361 0.375 \n",
            "0.387 0.38 0.359 0.361 0.375 0.399 \n",
            "0.38 0.359 0.361 0.375 0.399 0.406 \n",
            "0.359 0.361 0.375 0.399 0.406 0.417 \n",
            "0.361 0.375 0.399 0.406 0.417 0.421 \n",
            "0.375 0.399 0.406 0.417 0.421 0.407 \n",
            "0.399 0.406 0.417 0.421 0.407 0.384 \n",
            "0.406 0.417 0.421 0.407 0.384 0.393 \n",
            "0.417 0.421 0.407 0.384 0.393 0.41 \n",
            "0.421 0.407 0.384 0.393 0.41 0.409 \n",
            "0.407 0.384 0.393 0.41 0.409 0.413 \n",
            "0.384 0.393 0.41 0.409 0.413 0.41 \n",
            "0.393 0.41 0.409 0.413 0.41 0.398 \n",
            "0.41 0.409 0.413 0.41 0.398 0.382 \n",
            "0.409 0.413 0.41 0.398 0.382 0.381 \n",
            "0.413 0.41 0.398 0.382 0.381 0.376 \n",
            "0.41 0.398 0.382 0.381 0.376 0.389 \n",
            "0.398 0.382 0.381 0.376 0.389 0.395 \n",
            "0.382 0.381 0.376 0.389 0.395 0.397 \n",
            "0.381 0.376 0.389 0.395 0.397 0.401 \n",
            "0.376 0.389 0.395 0.397 0.401 0.404 \n",
            "0.389 0.395 0.397 0.401 0.404 0.401 \n",
            "0.395 0.397 0.401 0.404 0.401 0.393 \n",
            "0.397 0.401 0.404 0.401 0.393 0.401 \n",
            "0.401 0.404 0.401 0.393 0.401 0.399 \n",
            "0.404 0.401 0.393 0.401 0.399 0.4 \n",
            "0.401 0.393 0.401 0.399 0.4 0.402 \n",
            "0.393 0.401 0.399 0.4 0.402 0.399 \n",
            "0.401 0.399 0.4 0.402 0.399 0.397 \n",
            "0.399 0.4 0.402 0.399 0.397 0.398 \n",
            "0.4 0.402 0.399 0.397 0.398 0.399 \n",
            "0.402 0.399 0.397 0.398 0.399 0.388 \n",
            "0.399 0.397 0.398 0.399 0.388 0.389 \n",
            "0.397 0.398 0.399 0.388 0.389 0.379 \n",
            "0.398 0.399 0.388 0.389 0.379 0.384 \n",
            "0.399 0.388 0.389 0.379 0.384 0.394 \n",
            "0.388 0.389 0.379 0.384 0.394 0.402 \n",
            "0.389 0.379 0.384 0.394 0.402 0.395 \n",
            "0.379 0.384 0.394 0.402 0.395 0.398 \n",
            "0.384 0.394 0.402 0.395 0.398 0.391 \n",
            "0.394 0.402 0.395 0.398 0.391 0.375 \n",
            "0.402 0.395 0.398 0.391 0.375 0.375 \n",
            "0.395 0.398 0.391 0.375 0.375 0.393 \n",
            "0.398 0.391 0.375 0.375 0.393 0.394 \n",
            "0.391 0.375 0.375 0.393 0.394 0.389 \n",
            "0.375 0.375 0.393 0.394 0.389 0.391 \n",
            "0.375 0.393 0.394 0.389 0.391 0.385 \n"
          ],
          "name": "stdout"
        }
      ]
    },
    {
      "cell_type": "code",
      "metadata": {
        "id": "IF-4DfSO76r7",
        "colab_type": "code",
        "colab": {
          "base_uri": "https://localhost:8080/",
          "height": 102
        },
        "outputId": "8e9a6dea-14e1-41e4-cf14-af2c193f83a0"
      },
      "source": [
        "# Verificamos as informação do database de valores de min/max, shape, tamanho da janela\n",
        "\n",
        "data = np.stack([list(window_dataset) for window_dataset in dataset], axis=0)\n",
        "print('data.shape: {}'.format(data.shape))\n",
        "min_value = data.min()\n",
        "max_value = data.max()\n",
        "\n",
        "print('File Path: {}\\nWindows Siz: {}\\nMin Value: {:.2f}\\nMax Value: {:.2f}'.\\\n",
        "      format(file_path, windows_size, min_value, max_value))"
      ],
      "execution_count": 49,
      "outputs": [
        {
          "output_type": "stream",
          "text": [
            "data.shape: (173, 6)\n",
            "File Path: EmpresaX.txt\n",
            "Windows Siz: 5\n",
            "Min Value: 0.36\n",
            "Max Value: 0.46\n"
          ],
          "name": "stdout"
        }
      ]
    },
    {
      "cell_type": "code",
      "metadata": {
        "id": "1CHV7qnPX6tO",
        "colab_type": "code",
        "colab": {}
      },
      "source": [
        "# Realizamos a configuração para utilizarmos a biblioteca de fuzzy rules\n",
        "\n",
        "var_config = {\n",
        "'windows_size':windows_size,\n",
        "'nb_sets':nb_sets,\n",
        "'min':min_value-0.01,\n",
        "'max':max_value+0.01,\n",
        "'type':'input & output'\n",
        "}"
      ],
      "execution_count": 50,
      "outputs": []
    },
    {
      "cell_type": "code",
      "metadata": {
        "id": "AWikjheIUeyB",
        "colab_type": "code",
        "colab": {}
      },
      "source": [
        "# Criação das variáveis de entrada, saída e a junção delas\n",
        "\n",
        "input_variables  = [config_input_variable('i_{}'.format(i+1), var_config['nb_sets'], var_config['min'], var_config['max']) for i in range(var_config['windows_size'])]\n",
        "output_variables = [config_output_variable('output', var_config['nb_sets'], var_config['min'], var_config['max'])]\n",
        "variables = input_variables + output_variables"
      ],
      "execution_count": 51,
      "outputs": []
    },
    {
      "cell_type": "code",
      "metadata": {
        "id": "PrD6XvBPDeKY",
        "colab_type": "code",
        "colab": {}
      },
      "source": [
        "# Função de extração de regras, construção de sistema a partir das regras e simulador do sistema\n",
        "\n",
        "rules = extract_rules(variables, data)\n",
        "system = ctrl.ControlSystem(rules)\n",
        "sim = ctrl.ControlSystemSimulation(system)"
      ],
      "execution_count": 52,
      "outputs": []
    },
    {
      "cell_type": "code",
      "metadata": {
        "id": "FNR_lfN3WXG5",
        "colab_type": "code",
        "colab": {}
      },
      "source": [
        "# Realizamos uma simulação para verificar como o sistema se comporta\n",
        "\n",
        "output_real = []\n",
        "output_prev = []\n",
        "for instance in data:\n",
        "  for i,v in enumerate(instance[:-1]):\n",
        "    sim.input['i_{}'.format(i+1)]=instance[i]\n",
        "  sim.compute()\n",
        "  output_prev.append(sim.output['output'])\n",
        "  output_real.append(instance[-1])"
      ],
      "execution_count": 53,
      "outputs": []
    },
    {
      "cell_type": "code",
      "metadata": {
        "id": "QAfdutCuHLeC",
        "colab_type": "code",
        "colab": {
          "base_uri": "https://localhost:8080/",
          "height": 554
        },
        "outputId": "275d8554-e7ab-4ec7-b9cb-0a73a9843d0d"
      },
      "source": [
        "# Plotamos um gráfico com as variáveis\n",
        "\n",
        "plt.figure(figsize=(13,9))\n",
        "plt.plot(output_real,'*', color='purple', label='Real')\n",
        "plt.plot(output_prev,'s', color='blue', label='Previsto')"
      ],
      "execution_count": 54,
      "outputs": [
        {
          "output_type": "execute_result",
          "data": {
            "text/plain": [
              "[<matplotlib.lines.Line2D at 0x7fc2cb1455f8>]"
            ]
          },
          "metadata": {
            "tags": []
          },
          "execution_count": 54
        },
        {
          "output_type": "display_data",
          "data": {
            "image/png": "[encoded data removed]",
            "text/plain": [
              "<Figure size 936x648 with 1 Axes>"
            ]
          },
          "metadata": {
            "tags": [],
            "needs_background": "light"
          }
        }
      ]
    },
    {
      "cell_type": "code",
      "metadata": {
        "id": "pKHxWkXY4cvt",
        "colab_type": "code",
        "colab": {
          "base_uri": "https://localhost:8080/",
          "height": 34
        },
        "outputId": "a996f5ab-d311-42ef-af9e-3a687a971ec4"
      },
      "source": [
        "# Nosso erro está ainda alto: 6.76e-05 = 6.76 x 10-5 = 0.0000676\n",
        "\n",
        "mean_squared_error(output_real, output_prev)"
      ],
      "execution_count": 56,
      "outputs": [
        {
          "output_type": "execute_result",
          "data": {
            "text/plain": [
              "6.76469571098739e-05"
            ]
          },
          "metadata": {
            "tags": []
          },
          "execution_count": 56
        }
      ]
    },
    {
      "cell_type": "code",
      "metadata": {
        "id": "DULPlnVvCICt",
        "colab_type": "code",
        "colab": {}
      },
      "source": [
        "# Agora vamos realizar uma série de testes, modificando o numero da janela e conjuntos e todos os passos novamente\n",
        "# Será ultizada a combinação que demonstrar o menor erro e ao final, uma lista com as tentativas\n",
        "\n",
        "windows_size = 9\n",
        "nb_sets = 12"
      ],
      "execution_count": 284,
      "outputs": []
    },
    {
      "cell_type": "code",
      "metadata": {
        "id": "ykFVg5SeC1qG",
        "colab_type": "code",
        "colab": {}
      },
      "source": [
        "def preprocessing(line):\n",
        "  line = line.strip().replace(',','.')\n",
        "  return float(line)\n",
        "\n",
        "with open(file_path,'r') as file:\n",
        "  series = [preprocessing(line) for line in file]"
      ],
      "execution_count": 285,
      "outputs": []
    },
    {
      "cell_type": "code",
      "metadata": {
        "id": "zAes9XiZDSLK",
        "colab_type": "code",
        "colab": {
          "base_uri": "https://localhost:8080/",
          "height": 54
        },
        "outputId": "ab7f4455-c1f9-409c-9486-6f15d98a34a0"
      },
      "source": [
        "dataset = tf.data.Dataset.from_tensor_slices(series)\n",
        "dataset = dataset.window(windows_size + 1, shift=1, drop_remainder=True)\n",
        "for window_dataset in dataset:\n",
        "  for w in window_dataset:\n",
        "    print(w.numpy(), end=' ')"
      ],
      "execution_count": 286,
      "outputs": [
        {
          "output_type": "stream",
          "text": [
            "0.429 0.443 0.451 0.455 0.44 0.433 0.423 0.412 0.411 0.426 0.443 0.451 0.455 0.44 0.433 0.423 0.412 0.411 0.426 0.436 0.451 0.455 0.44 0.433 0.423 0.412 0.411 0.426 0.436 0.441 0.455 0.44 0.433 0.423 0.412 0.411 0.426 0.436 0.441 0.446 0.44 0.433 0.423 0.412 0.411 0.426 0.436 0.441 0.446 0.443 0.433 0.423 0.412 0.411 0.426 0.436 0.441 0.446 0.443 0.437 0.423 0.412 0.411 0.426 0.436 0.441 0.446 0.443 0.437 0.426 0.412 0.411 0.426 0.436 0.441 0.446 0.443 0.437 0.426 0.427 0.411 0.426 0.436 0.441 0.446 0.443 0.437 0.426 0.427 0.431 0.426 0.436 0.441 0.446 0.443 0.437 0.426 0.427 0.431 0.436 0.436 0.441 0.446 0.443 0.437 0.426 0.427 0.431 0.436 0.432 0.441 0.446 0.443 0.437 0.426 0.427 0.431 0.436 0.432 0.433 0.446 0.443 0.437 0.426 0.427 0.431 0.436 0.432 0.433 0.424 0.443 0.437 0.426 0.427 0.431 0.436 0.432 0.433 0.424 0.42 0.437 0.426 0.427 0.431 0.436 0.432 0.433 0.424 0.42 0.416 0.426 0.427 0.431 0.436 0.432 0.433 0.424 0.42 0.416 0.405 0.427 0.431 0.436 0.432 0.433 0.424 0.42 0.416 0.405 0.408 0.431 0.436 0.432 0.433 0.424 0.42 0.416 0.405 0.408 0.414 0.436 0.432 0.433 0.424 0.42 0.416 0.405 0.408 0.414 0.417 0.432 0.433 0.424 0.42 0.416 0.405 0.408 0.414 0.417 0.4 0.433 0.424 0.42 0.416 0.405 0.408 0.414 0.417 0.4 0.404 0.424 0.42 0.416 0.405 0.408 0.414 0.417 0.4 0.404 0.396 0.42 0.416 0.405 0.408 0.414 0.417 0.4 0.404 0.396 0.393 0.416 0.405 0.408 0.414 0.417 0.4 0.404 0.396 0.393 0.389 0.405 0.408 0.414 0.417 0.4 0.404 0.396 0.393 0.389 0.409 0.408 0.414 0.417 0.4 0.404 0.396 0.393 0.389 0.409 0.409 0.414 0.417 0.4 0.404 0.396 0.393 0.389 0.409 0.409 0.413 0.417 0.4 0.404 0.396 0.393 0.389 0.409 0.409 0.413 0.403 0.4 0.404 0.396 0.393 0.389 0.409 0.409 0.413 0.403 0.402 0.404 0.396 0.393 0.389 0.409 0.409 0.413 0.403 0.402 0.389 0.396 0.393 0.389 0.409 0.409 0.413 0.403 0.402 0.389 0.392 0.393 0.389 0.409 0.409 0.413 0.403 0.402 0.389 0.392 0.383 0.389 0.409 0.409 0.413 0.403 0.402 0.389 0.392 0.383 0.389 0.409 0.409 0.413 0.403 0.402 0.389 0.392 0.383 0.389 0.386 0.409 0.413 0.403 0.402 0.389 0.392 0.383 0.389 0.386 0.395 0.413 0.403 0.402 0.389 0.392 0.383 0.389 0.386 0.395 0.4 0.403 0.402 0.389 0.392 0.383 0.389 0.386 0.395 0.4 0.412 0.402 0.389 0.392 0.383 0.389 0.386 0.395 0.4 0.412 0.411 0.389 0.392 0.383 0.389 0.386 0.395 0.4 0.412 0.411 0.414 0.392 0.383 0.389 0.386 0.395 0.4 0.412 0.411 0.414 0.412 0.383 0.389 0.386 0.395 0.4 0.412 0.411 0.414 0.412 0.404 0.389 0.386 0.395 0.4 0.412 0.411 0.414 0.412 0.404 0.401 0.386 0.395 0.4 0.412 0.411 0.414 0.412 0.404 0.401 0.406 0.395 0.4 0.412 0.411 0.414 0.412 0.404 0.401 0.406 0.407 0.4 0.412 0.411 0.414 0.412 0.404 0.401 0.406 0.407 0.41 0.412 0.411 0.414 0.412 0.404 0.401 0.406 0.407 0.41 0.41 0.411 0.414 0.412 0.404 0.401 0.406 0.407 0.41 0.41 0.409 0.414 0.412 0.404 0.401 0.406 0.407 0.41 0.41 0.409 0.407 0.412 0.404 0.401 0.406 0.407 0.41 0.41 0.409 0.407 0.407 0.404 0.401 0.406 0.407 0.41 0.41 0.409 0.407 0.407 0.402 0.401 0.406 0.407 0.41 0.41 0.409 0.407 0.407 0.402 0.409 0.406 0.407 0.41 0.41 0.409 0.407 0.407 0.402 0.409 0.403 0.407 0.41 0.41 0.409 0.407 0.407 0.402 0.409 0.403 0.398 0.41 0.41 0.409 0.407 0.407 0.402 0.409 0.403 0.398 0.397 0.41 0.409 0.407 0.407 0.402 0.409 0.403 0.398 0.397 0.396 0.409 0.407 0.407 0.402 0.409 0.403 0.398 0.397 0.396 0.392 0.407 0.407 0.402 0.409 0.403 0.398 0.397 0.396 0.392 0.391 0.407 0.402 0.409 0.403 0.398 0.397 0.396 0.392 0.391 0.395 0.402 0.409 0.403 0.398 0.397 0.396 0.392 0.391 0.395 0.391 0.409 0.403 0.398 0.397 0.396 0.392 0.391 0.395 0.391 0.387 0.403 0.398 0.397 0.396 0.392 0.391 0.395 0.391 0.387 0.389 0.398 0.397 0.396 0.392 0.391 0.395 0.391 0.387 0.389 0.399 0.397 0.396 0.392 0.391 0.395 0.391 0.387 0.389 0.399 0.396 0.396 0.392 0.391 0.395 0.391 0.387 0.389 0.399 0.396 0.392 0.392 0.391 0.395 0.391 0.387 0.389 0.399 0.396 0.392 0.391 0.391 0.395 0.391 0.387 0.389 0.399 0.396 0.392 0.391 0.388 0.395 0.391 0.387 0.389 0.399 0.396 0.392 0.391 0.388 0.395 0.391 0.387 0.389 0.399 0.396 0.392 0.391 0.388 0.395 0.405 0.387 0.389 0.399 0.396 0.392 0.391 0.388 0.395 0.405 0.414 0.389 0.399 0.396 0.392 0.391 0.388 0.395 0.405 0.414 0.425 0.399 0.396 0.392 0.391 0.388 0.395 0.405 0.414 0.425 0.433 0.396 0.392 0.391 0.388 0.395 0.405 0.414 0.425 0.433 0.423 0.392 0.391 0.388 0.395 0.405 0.414 0.425 0.433 0.423 0.417 0.391 0.388 0.395 0.405 0.414 0.425 0.433 0.423 0.417 0.432 0.388 0.395 0.405 0.414 0.425 0.433 0.423 0.417 0.432 0.43 0.395 0.405 0.414 0.425 0.433 0.423 0.417 0.432 0.43 0.418 0.405 0.414 0.425 0.433 0.423 0.417 0.432 0.43 0.418 0.42 0.414 0.425 0.433 0.423 0.417 0.432 0.43 0.418 0.42 0.418 0.425 0.433 0.423 0.417 0.432 0.43 0.418 0.42 0.418 0.404 0.433 0.423 0.417 0.432 0.43 0.418 0.42 0.418 0.404 0.403 0.423 0.417 0.432 0.43 0.418 0.42 0.418 0.404 0.403 0.418 0.417 0.432 0.43 0.418 0.42 0.418 0.404 0.403 0.418 0.419 0.432 0.43 0.418 0.42 0.418 0.404 0.403 0.418 0.419 0.417 0.43 0.418 0.42 0.418 0.404 0.403 0.418 0.419 0.417 0.418 0.418 0.42 0.418 0.404 0.403 0.418 0.419 0.417 0.418 0.42 0.42 0.418 0.404 0.403 0.418 0.419 0.417 0.418 0.42 0.417 0.418 0.404 0.403 0.418 0.419 0.417 0.418 0.42 0.417 0.421 0.404 0.403 0.418 0.419 0.417 0.418 0.42 0.417 0.421 0.422 0.403 0.418 0.419 0.417 0.418 0.42 0.417 0.421 0.422 0.428 0.418 0.419 0.417 0.418 0.42 0.417 0.421 0.422 0.428 0.429 0.419 0.417 0.418 0.42 0.417 0.421 0.422 0.428 0.429 0.428 0.417 0.418 0.42 0.417 0.421 0.422 0.428 0.429 0.428 0.421 0.418 0.42 0.417 0.421 0.422 0.428 0.429 0.428 0.421 0.422 0.42 0.417 0.421 0.422 0.428 0.429 0.428 0.421 0.422 0.412 0.417 0.421 0.422 0.428 0.429 0.428 0.421 0.422 0.412 0.405 0.421 0.422 0.428 0.429 0.428 0.421 0.422 0.412 0.405 0.405 0.422 0.428 0.429 0.428 0.421 0.422 0.412 0.405 0.405 0.411 0.428 0.429 0.428 0.421 0.422 0.412 0.405 0.405 0.411 0.407 0.429 0.428 0.421 0.422 0.412 0.405 0.405 0.411 0.407 0.411 0.428 0.421 0.422 0.412 0.405 0.405 0.411 0.407 0.411 0.413 0.421 0.422 0.412 0.405 0.405 0.411 0.407 0.411 0.413 0.409 0.422 0.412 0.405 0.405 0.411 0.407 0.411 0.413 0.409 0.405 0.412 0.405 0.405 0.411 0.407 0.411 0.413 0.409 0.405 0.408 0.405 0.405 0.411 0.407 0.411 0.413 0.409 0.405 0.408 0.402 0.405 0.411 0.407 0.411 0.413 0.409 0.405 0.408 0.402 0.398 0.411 0.407 0.411 0.413 0.409 0.405 0.408 0.402 0.398 0.396 0.407 0.411 0.413 0.409 0.405 0.408 0.402 0.398 0.396 0.392 0.411 0.413 0.409 0.405 0.408 0.402 0.398 0.396 0.392 0.391 0.413 0.409 0.405 0.408 0.402 0.398 0.396 0.392 0.391 0.399 0.409 0.405 0.408 0.402 0.398 0.396 0.392 0.391 0.399 0.407 0.405 0.408 0.402 0.398 0.396 0.392 0.391 0.399 0.407 0.406 0.408 0.402 0.398 0.396 0.392 0.391 0.399 0.407 0.406 0.393 0.402 0.398 0.396 0.392 0.391 0.399 0.407 0.406 0.393 0.387 0.398 0.396 0.392 0.391 0.399 0.407 0.406 0.393 0.387 0.386 0.396 0.392 0.391 0.399 0.407 0.406 0.393 0.387 0.386 0.383 0.392 0.391 0.399 0.407 0.406 0.393 0.387 0.386 0.383 0.389 0.391 0.399 0.407 0.406 0.393 0.387 0.386 0.383 0.389 0.393 0.399 0.407 0.406 0.393 0.387 0.386 0.383 0.389 0.393 0.396 0.407 0.406 0.393 0.387 0.386 0.383 0.389 0.393 0.396 0.387 0.406 0.393 0.387 0.386 0.383 0.389 0.393 0.396 0.387 0.38 0.393 0.387 0.386 0.383 0.389 0.393 0.396 0.387 0.38 0.359 0.387 0.386 0.383 0.389 0.393 0.396 0.387 0.38 0.359 0.361 0.386 0.383 0.389 0.393 0.396 0.387 0.38 0.359 0.361 0.375 0.383 0.389 0.393 0.396 0.387 0.38 0.359 0.361 0.375 0.399 0.389 0.393 0.396 0.387 0.38 0.359 0.361 0.375 0.399 0.406 0.393 0.396 0.387 0.38 0.359 0.361 0.375 0.399 0.406 0.417 0.396 0.387 0.38 0.359 0.361 0.375 0.399 0.406 0.417 0.421 0.387 0.38 0.359 0.361 0.375 0.399 0.406 0.417 0.421 0.407 0.38 0.359 0.361 0.375 0.399 0.406 0.417 0.421 0.407 0.384 0.359 0.361 0.375 0.399 0.406 0.417 0.421 0.407 0.384 0.393 0.361 0.375 0.399 0.406 0.417 0.421 0.407 0.384 0.393 0.41 0.375 0.399 0.406 0.417 0.421 0.407 0.384 0.393 0.41 0.409 0.399 0.406 0.417 0.421 0.407 0.384 0.393 0.41 0.409 0.413 0.406 0.417 0.421 0.407 0.384 0.393 0.41 0.409 0.413 0.41 0.417 0.421 0.407 0.384 0.393 0.41 0.409 0.413 0.41 0.398 0.421 0.407 0.384 0.393 0.41 0.409 0.413 0.41 0.398 0.382 0.407 0.384 0.393 0.41 0.409 0.413 0.41 0.398 0.382 0.381 0.384 0.393 0.41 0.409 0.413 0.41 0.398 0.382 0.381 0.376 0.393 0.41 0.409 0.413 0.41 0.398 0.382 0.381 0.376 0.389 0.41 0.409 0.413 0.41 0.398 0.382 0.381 0.376 0.389 0.395 0.409 0.413 0.41 0.398 0.382 0.381 0.376 0.389 0.395 0.397 0.413 0.41 0.398 0.382 0.381 0.376 0.389 0.395 0.397 0.401 0.41 0.398 0.382 0.381 0.376 0.389 0.395 0.397 0.401 0.404 0.398 0.382 0.381 0.376 0.389 0.395 0.397 0.401 0.404 0.401 0.382 0.381 0.376 0.389 0.395 0.397 0.401 0.404 0.401 0.393 0.381 0.376 0.389 0.395 0.397 0.401 0.404 0.401 0.393 0.401 0.376 0.389 0.395 0.397 0.401 0.404 0.401 0.393 0.401 0.399 0.389 0.395 0.397 0.401 0.404 0.401 0.393 0.401 0.399 0.4 0.395 0.397 0.401 0.404 0.401 0.393 0.401 0.399 0.4 0.402 0.397 0.401 0.404 0.401 0.393 0.401 0.399 0.4 0.402 0.399 0.401 0.404 0.401 0.393 0.401 0.399 0.4 0.402 0.399 0.397 0.404 0.401 0.393 0.401 0.399 0.4 0.402 0.399 0.397 0.398 0.401 0.393 0.401 0.399 0.4 0.402 0.399 0.397 0.398 0.399 0.393 0.401 0.399 0.4 0.402 0.399 0.397 0.398 0.399 0.388 0.401 0.399 0.4 0.402 0.399 0.397 0.398 0.399 0.388 0.389 0.399 0.4 0.402 0.399 0.397 0.398 0.399 0.388 0.389 0.379 0.4 0.402 0.399 0.397 0.398 0.399 0.388 0.389 0.379 0.384 0.402 0.399 0.397 0.398 0.399 0.388 0.389 0.379 0.384 0.394 0.399 0.397 0.398 0.399 0.388 0.389 0.379 0.384 0.394 0.402 0.397 0.398 0.399 0.388 0.389 0.379 0.384 0.394 0.402 0.395 0.398 0.399 0.388 0.389 0.379 0.384 0.394 0.402 0.395 0.398 0.399 0.388 0.389 0.379 0.384 0.394 0.402 0.395 0.398 0.391 0.388 0.389 0.379 0.384 0.394 0.402 0.395 0.398 0.391 0.375 0.389 0.379 0.384 0.394 0.402 0.395 0.398 0.391 0.375 0.375 0.379 0.384 0.394 0.402 0.395 0.398 0.391 0.375 0.375 0.393 0.384 0.394 0.402 0.395 0.398 0.391 0.375 0.375 0.393 0.394 0.394 0.402 0.395 0.398 0.391 0.375 0.375 0.393 0.394 0.389 0.402 0.395 0.398 0.391 0.375 0.375 0.393 0.394 0.389 0.391 0.395 0.398 0.391 0.375 0.375 0.393 0.394 0.389 0.391 0.385 "
          ],
          "name": "stdout"
        }
      ]
    },
    {
      "cell_type": "code",
      "metadata": {
        "id": "ARvo6kbyDDpL",
        "colab_type": "code",
        "colab": {
          "base_uri": "https://localhost:8080/",
          "height": 102
        },
        "outputId": "1931767f-b3e5-4d73-b004-a4602ce8d9aa"
      },
      "source": [
        "data = np.stack([list(window_dataset) for window_dataset in dataset], axis=0)\n",
        "print('data.shape: {}'.format(data.shape))\n",
        "min_value = data.min()\n",
        "max_value = data.max()\n",
        "\n",
        "print('File Path: {}\\nWindows Siz: {}\\nMin Value: {:.2f}\\nMax Value: {:.2f}'.\\\n",
        "      format(file_path, windows_size, min_value, max_value))"
      ],
      "execution_count": 287,
      "outputs": [
        {
          "output_type": "stream",
          "text": [
            "data.shape: (169, 10)\n",
            "File Path: EmpresaX.txt\n",
            "Windows Siz: 9\n",
            "Min Value: 0.36\n",
            "Max Value: 0.46\n"
          ],
          "name": "stdout"
        }
      ]
    },
    {
      "cell_type": "code",
      "metadata": {
        "id": "TmgrX6WvDEc5",
        "colab_type": "code",
        "colab": {}
      },
      "source": [
        "var_config = {\n",
        "'windows_size':windows_size,\n",
        "'nb_sets':nb_sets,\n",
        "'min':min_value-0.01,\n",
        "'max':max_value+0.01,\n",
        "'type':'input & output'\n",
        "}"
      ],
      "execution_count": 288,
      "outputs": []
    },
    {
      "cell_type": "code",
      "metadata": {
        "id": "ttN6IfGTDHdZ",
        "colab_type": "code",
        "colab": {}
      },
      "source": [
        "input_variables  = [config_input_variable('i_{}'.format(i+1), var_config['nb_sets'], var_config['min'], var_config['max']) for i in range(var_config['windows_size'])]\n",
        "output_variables = [config_output_variable('output', var_config['nb_sets'], var_config['min'], var_config['max'])]\n",
        "variables = input_variables + output_variables"
      ],
      "execution_count": 289,
      "outputs": []
    },
    {
      "cell_type": "code",
      "metadata": {
        "id": "BV0H3jdGDZ4I",
        "colab_type": "code",
        "colab": {}
      },
      "source": [
        "rules = extract_rules(variables, data)\n",
        "system = ctrl.ControlSystem(rules)\n",
        "sim = ctrl.ControlSystemSimulation(system)"
      ],
      "execution_count": 290,
      "outputs": []
    },
    {
      "cell_type": "code",
      "metadata": {
        "id": "EZol9pUcDfPC",
        "colab_type": "code",
        "colab": {}
      },
      "source": [
        "output_real = []\n",
        "output_prev = []\n",
        "for instance in data:\n",
        "  for i,v in enumerate(instance[:-1]):\n",
        "    sim.input['i_{}'.format(i+1)]=instance[i]\n",
        "  sim.compute()\n",
        "  output_prev.append(sim.output['output'])\n",
        "  output_real.append(instance[-1])"
      ],
      "execution_count": 291,
      "outputs": []
    },
    {
      "cell_type": "code",
      "metadata": {
        "id": "vPCSdSWiDf5Z",
        "colab_type": "code",
        "colab": {
          "base_uri": "https://localhost:8080/",
          "height": 554
        },
        "outputId": "13613c71-1795-46b4-b660-b365abda048f"
      },
      "source": [
        "# Plotamos um novo gráfico com as variáveis\n",
        "\n",
        "plt.figure(figsize=(13,9))\n",
        "plt.plot(output_real,'*', color='purple', label='Real')\n",
        "plt.plot(output_prev,'s', color='blue', label='Previsto')"
      ],
      "execution_count": 292,
      "outputs": [
        {
          "output_type": "execute_result",
          "data": {
            "text/plain": [
              "[<matplotlib.lines.Line2D at 0x7fc2c52eb7f0>]"
            ]
          },
          "metadata": {
            "tags": []
          },
          "execution_count": 292
        },
        {
          "output_type": "display_data",
          "data": {
            "image/png": "[encoded data removed]",
            "text/plain": [
              "<Figure size 936x648 with 1 Axes>"
            ]
          },
          "metadata": {
            "tags": [],
            "needs_background": "light"
          }
        }
      ]
    },
    {
      "cell_type": "code",
      "metadata": {
        "id": "H3ZWoclWDoWz",
        "colab_type": "code",
        "colab": {
          "base_uri": "https://localhost:8080/",
          "height": 34
        },
        "outputId": "15f00187-be02-4d87-b5e7-d4e4a0099721"
      },
      "source": [
        "# windows_size=5 , nb_sets = 5 -  Erro 6.76e-05 = 6.76 x 10-5 = 0.0000676\n",
        "# windows_size=10 ,nb_sets = 12 - Erro 8.52e-05 = 8.52 x 10-5 = 0.0000852\n",
        "# windows_size=6 , nb_sets = 9 -  Erro 3.07e-05 = 3.07 x 10-5 = 0.0000307\n",
        "# windows_size=6 , nb_sets = 7 -  Erro 4.48e-05 = 4.48 x 10-5 = 0.0000448 \n",
        "# windows_size=7 , nb_sets = 10 - Erro 2.01e-05 = 2.01 x 10-5 = 0.0000201\n",
        "# windows_size=8 , nb_sets = 10 - Erro 1.90e-05 = 1.90 x 10-5 = 0.0000190\n",
        "# windows_size=9 , nb_sets = 10 - Erro 1.66e-05 = 1.66 x 10-5 = 0.0000166\n",
        "# windows_size=9 , nb_sets = 11 - Erro 1.57e-05 = 1.57 x 10-5 = 0.0000157\n",
        "# windows_size=9 , nb_sets = 9 -  Erro 2.33e-05 = 2.33 x 10-5 = 0.0000233\n",
        "# windows_size=9 , nb_sets = 8 -  Erro 2.67e-05 = 2.67 x 10-5 = 0.0000267\n",
        "# windows_size=9 , nb_sets = 7 -  Erro 3.76e-05 = 3.76 x 10-5 = 0.0000376\n",
        "# windows_size=8 , nb_sets = 9 -  Erro 2.66e-05 = 2.66 x 10-5 = 0.0000266\n",
        "# windows_size=8 , nb_sets = 12 - Erro 1.40e-05 = 1.08 x 10-5 = 0.0000140\n",
        "\n",
        "\n",
        "# Melhor resultado\n",
        "# windows_size=9 , nb_sets = 12 - Erro 1.08e-05 = 1.08 x 10-5 = 0.0000108\n",
        "\n",
        "\n",
        "mean_squared_error(output_real, output_prev)"
      ],
      "execution_count": 293,
      "outputs": [
        {
          "output_type": "execute_result",
          "data": {
            "text/plain": [
              "1.0822539603223514e-05"
            ]
          },
          "metadata": {
            "tags": []
          },
          "execution_count": 293
        }
      ]
    },
    {
      "cell_type": "markdown",
      "metadata": {
        "id": "QV1PhQHJdzjD",
        "colab_type": "text"
      },
      "source": [
        "Obrigada, Prof. Cristian! "
      ]
    }
  ]
}